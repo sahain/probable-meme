{
 "cells": [
  {
   "cell_type": "markdown",
   "id": "9cd0cdc1-21fd-441e-9e68-c0258256bf2e",
   "metadata": {},
   "source": [
    "# Data Science Tools and Ecosystem"
   ]
  },
  {
   "cell_type": "markdown",
   "id": "ce19e314-ae67-4e52-835c-0b76473cf792",
   "metadata": {},
   "source": [
    "In this notebook, Data Science Tools and Ecosystem are summarized."
   ]
  },
  {
   "cell_type": "markdown",
   "id": "c42f20d9-7c97-483c-86e5-50eb4fac67b9",
   "metadata": {},
   "source": [
    "__Objectives:__\n",
    "- List popular languages, libraries and tools of data science\n",
    "- Dsiplay basic proficiency of markdown\n",
    "- Show some examples of arithmetic expressions in Python"
   ]
  },
  {
   "cell_type": "markdown",
   "id": "052469cf-30a4-463f-b76f-1fb72ca45b1b",
   "metadata": {},
   "source": [
    "Some of the popular languages that Data Scientists use are:\n",
    "1. Python\n",
    "2. R\n",
    "3. Scala\n",
    "4. Julia\n",
    "5. Java\n",
    "6. SQL"
   ]
  },
  {
   "cell_type": "markdown",
   "id": "5e320f7d-df95-4087-a598-63728ba92579",
   "metadata": {},
   "source": [
    "Some of the commonly used libraries used by Data Scientists include:\n",
    "1. NumPy\n",
    "2. Matplotlib\n",
    "3. Pandas\n",
    "4. TensorFlow\n",
    "5. Scikit-learn"
   ]
  },
  {
   "cell_type": "markdown",
   "id": "15f1fc8b-e1b6-4aba-a90d-cb90f7cf5681",
   "metadata": {},
   "source": [
    "| Data Science Tools |\n",
    "|------|\n",
    "| Jupyter Notebooks |\n",
    "| RStudio |\n",
    "| Visual Studio Code |"
   ]
  },
  {
   "cell_type": "markdown",
   "id": "2bf2a2fc-24fb-4b2c-981a-a64f8b04d34f",
   "metadata": {},
   "source": [
    "### Below are a few examples of evaluating arithmetic expressions in Python"
   ]
  },
  {
   "cell_type": "code",
   "execution_count": 1,
   "id": "390ebebf-481d-4f8a-a4f1-3144cbeb44c6",
   "metadata": {},
   "outputs": [
    {
     "data": {
      "text/plain": [
       "17"
      ]
     },
     "execution_count": 1,
     "metadata": {},
     "output_type": "execute_result"
    }
   ],
   "source": [
    "# This a simple arithmetic expression to mutiply then add integers\n",
    "(3*4)+5"
   ]
  },
  {
   "cell_type": "code",
   "execution_count": 2,
   "id": "be61b9ce-2321-4ffd-a8e0-185f0825f992",
   "metadata": {},
   "outputs": [
    {
     "name": "stdout",
     "output_type": "stream",
     "text": [
      "3 hours and 20 minutes\n"
     ]
    }
   ],
   "source": [
    "# This will convert 200 minutes to hours by dividing by 60\n",
    "total_mins = 200\n",
    "total_time = total_mins / 60\n",
    "hours = int(total_time // 1)\n",
    "minutes = int(60 * (total_time % 1))\n",
    "\n",
    "print(f\"{hours} hours and {minutes} minutes\")"
   ]
  },
  {
   "cell_type": "markdown",
   "id": "b11271cc-19e7-439e-8dbe-69d2b29a40dc",
   "metadata": {},
   "source": [
    "## Author\n",
    "Samuel A. Hain"
   ]
  },
  {
   "cell_type": "code",
   "execution_count": null,
   "id": "62ca3acc-4640-4530-a27b-734e867303a6",
   "metadata": {},
   "outputs": [],
   "source": []
  }
 ],
 "metadata": {
  "kernelspec": {
   "display_name": "Python 3 (ipykernel)",
   "language": "python",
   "name": "python3"
  },
  "language_info": {
   "codemirror_mode": {
    "name": "ipython",
    "version": 3
   },
   "file_extension": ".py",
   "mimetype": "text/x-python",
   "name": "python",
   "nbconvert_exporter": "python",
   "pygments_lexer": "ipython3",
   "version": "3.10.12"
  }
 },
 "nbformat": 4,
 "nbformat_minor": 5
}
